{
  "nbformat": 4,
  "nbformat_minor": 0,
  "metadata": {
    "colab": {
      "name": "CELESTINI(SECTION B).ipynb",
      "version": "0.3.2",
      "provenance": [],
      "collapsed_sections": []
    },
    "kernelspec": {
      "name": "python3",
      "display_name": "Python 3"
    },
    "accelerator": "GPU"
  },
  "cells": [
    {
      "metadata": {
        "id": "bk0x2MMuOWca",
        "colab_type": "code",
        "colab": {}
      },
      "cell_type": "code",
      "source": [
        "import tensorflow as tf\n",
        "import os\n",
        "import pandas as pd\n",
        "import numpy as np                                          #importing all the required libraries"
      ],
      "execution_count": 0,
      "outputs": []
    },
    {
      "metadata": {
        "id": "bY7M0juVQ1_C",
        "colab_type": "code",
        "colab": {}
      },
      "cell_type": "code",
      "source": [
        "from sklearn.model_selection import KFold,cross_val_score\n",
        "from sklearn.metrics import precision_recall_fscore_support as scr\n",
        "from sklearn.metrics import classification_report\n",
        "from sklearn.svm import SVC"
      ],
      "execution_count": 0,
      "outputs": []
    },
    {
      "metadata": {
        "id": "Shmys_wkOnK_",
        "colab_type": "code",
        "colab": {}
      },
      "cell_type": "code",
      "source": [
        "import matplotlib.pyplot as plt"
      ],
      "execution_count": 0,
      "outputs": []
    },
    {
      "metadata": {
        "id": "7VjR2yEhOgpV",
        "colab_type": "code",
        "colab": {
          "base_uri": "https://localhost:8080/",
          "height": 124
        },
        "outputId": "0ca5f2b8-fa6b-408c-99aa-596e90559487"
      },
      "cell_type": "code",
      "source": [
        "#getting the data\n",
        "\n",
        "from google.colab import drive\n",
        "drive.mount('/content/drive')\n",
        "os.chdir('/content/drive/My Drive/Celestini_3_dataset')"
      ],
      "execution_count": 5,
      "outputs": [
        {
          "output_type": "stream",
          "text": [
            "Go to this URL in a browser: https://accounts.google.com/o/oauth2/auth?client_id=947318989803-6bn6qk8qdgf4n4g3pfee6491hc0brc4i.apps.googleusercontent.com&redirect_uri=urn%3Aietf%3Awg%3Aoauth%3A2.0%3Aoob&scope=email%20https%3A%2F%2Fwww.googleapis.com%2Fauth%2Fdocs.test%20https%3A%2F%2Fwww.googleapis.com%2Fauth%2Fdrive%20https%3A%2F%2Fwww.googleapis.com%2Fauth%2Fdrive.photos.readonly%20https%3A%2F%2Fwww.googleapis.com%2Fauth%2Fpeopleapi.readonly&response_type=code\n",
            "\n",
            "Enter your authorization code:\n",
            "··········\n",
            "Mounted at /content/drive\n"
          ],
          "name": "stdout"
        }
      ]
    },
    {
      "metadata": {
        "id": "ZIdp4wJAOwVJ",
        "colab_type": "code",
        "colab": {}
      },
      "cell_type": "code",
      "source": [
        "#reading the data from given file\n",
        "\n",
        "animals=np.genfromtxt('zoo.csv',dtype=None,delimiter=',',skip_header=0,encoding=None)"
      ],
      "execution_count": 0,
      "outputs": []
    },
    {
      "metadata": {
        "id": "tZxfTW0BOy3w",
        "colab_type": "code",
        "colab": {}
      },
      "cell_type": "code",
      "source": [
        "#creating a dataframe for the given data\n",
        "df=pd.DataFrame(animals)"
      ],
      "execution_count": 0,
      "outputs": []
    },
    {
      "metadata": {
        "id": "IhUVuEszOzT_",
        "colab_type": "code",
        "colab": {
          "base_uri": "https://localhost:8080/",
          "height": 35
        },
        "outputId": "b573fec7-6f7f-4059-c192-84a8ca645793"
      },
      "cell_type": "code",
      "source": [
        "#extracting output\n",
        "\n",
        "y_data=df.iloc[:,[0]]\n",
        "y=np.array((y_data))\n",
        "y.shape"
      ],
      "execution_count": 8,
      "outputs": [
        {
          "output_type": "execute_result",
          "data": {
            "text/plain": [
              "(101, 1)"
            ]
          },
          "metadata": {
            "tags": []
          },
          "execution_count": 8
        }
      ]
    },
    {
      "metadata": {
        "id": "i5d2lSZVPA7e",
        "colab_type": "code",
        "colab": {}
      },
      "cell_type": "code",
      "source": [
        "#divinding the data into their respective classes\n",
        "\n",
        "class1=['aardvark', 'antelope', 'bear', 'boar', 'buffalo', 'calf','cavy', 'cheetah', 'deer', 'dolphin', 'elephant','fruitbat', 'giraffe', 'girl', 'goat', 'gorilla', 'hamster','hare', 'leopard', 'lion', 'lynx', 'mink', 'mole', 'mongoose','opossum', 'oryx', 'platypus', 'polecat', 'pony','porpoise', 'puma', 'pussycat', 'raccoon', 'reindeer','seal', 'sealion', 'squirrel', 'vampire', 'vole', 'wallaby','wolf']\n",
        "\n",
        "class2=['chicken', 'crow', 'dove', 'duck', 'flamingo', 'gull', 'hawk',\n",
        "                  'kiwi', 'lark', 'ostrich', 'parakeet', 'penguin', 'pheasant',\n",
        "                  'rhea', 'skimmer', 'skua', 'sparrow', 'swan', 'vulture', 'wren']\n",
        "\n",
        "class3=['pitviper', 'seasnake', 'slowworm', 'tortoise', 'tuatara' ]\n",
        "\n",
        "class4=['bass', 'carp', 'catfish', 'chub', 'dogfish', 'haddock',\n",
        "                  'herring', 'pike', 'piranha', 'seahorse', 'sole', 'stingray', 'tuna']\n",
        "\n",
        "class5=['frog', 'frog', 'newt', 'toad' ]\n",
        "\n",
        "class6=['flea', 'gnat', 'honeybee', 'housefly', 'ladybird', 'moth', 'termite', 'wasp']\n",
        "\n",
        "class7=['clam', 'crab', 'crayfish', 'lobster', 'octopus',\n",
        "                  'scorpion', 'seawasp', 'slug', 'starfish', 'worm']\n"
      ],
      "execution_count": 0,
      "outputs": []
    },
    {
      "metadata": {
        "id": "0Lvcd2XNPBHH",
        "colab_type": "code",
        "colab": {}
      },
      "cell_type": "code",
      "source": [
        "#assigning classes to each data point\n",
        "\n",
        "list1=[]\n",
        "for i in range(y.shape[0]):\n",
        "    item=y[i][0]\n",
        "    if item in class1:\n",
        "        val=1\n",
        "    elif item in class2:\n",
        "        val=2\n",
        "    elif item in class3:\n",
        "        val=3\n",
        "    elif item in class4:\n",
        "        val=4\n",
        "    elif item in class5:\n",
        "        val=5\n",
        "    elif item in class6:\n",
        "        val=6\n",
        "    elif item in class7:\n",
        "        val=7\n",
        "    \n",
        "    list1.append(val)"
      ],
      "execution_count": 0,
      "outputs": []
    },
    {
      "metadata": {
        "id": "_xor8g2oPBN2",
        "colab_type": "code",
        "colab": {}
      },
      "cell_type": "code",
      "source": [
        "#preparing y to be in one-hot encoded form for neural network \n",
        "\n",
        "y_one_hot=[]\n",
        "for i in list1:\n",
        "  \n",
        "  z=np.zeros(7)\n",
        "  z[i-1]=1\n",
        "  y_one_hot.append(z)\n",
        "  \n",
        "   \n"
      ],
      "execution_count": 0,
      "outputs": []
    },
    {
      "metadata": {
        "id": "Bv7IrnngPBVD",
        "colab_type": "code",
        "colab": {
          "base_uri": "https://localhost:8080/",
          "height": 35
        },
        "outputId": "cf8cf2cb-a9ef-41d1-a19f-1a85dbb98ed8"
      },
      "cell_type": "code",
      "source": [
        "y_svm=np.array((list1))\n",
        "y_svm.shape"
      ],
      "execution_count": 12,
      "outputs": [
        {
          "output_type": "execute_result",
          "data": {
            "text/plain": [
              "(101,)"
            ]
          },
          "metadata": {
            "tags": []
          },
          "execution_count": 12
        }
      ]
    },
    {
      "metadata": {
        "id": "J7OIz2fsQCDP",
        "colab_type": "code",
        "colab": {}
      },
      "cell_type": "code",
      "source": [
        "#extracting feature value for each data point \n",
        "\n",
        "x_data=df.iloc[:,1:]\n",
        "x=np.array(x_data)"
      ],
      "execution_count": 0,
      "outputs": []
    },
    {
      "metadata": {
        "id": "s9qL-nZ0QCI_",
        "colab_type": "code",
        "colab": {
          "base_uri": "https://localhost:8080/",
          "height": 35
        },
        "outputId": "7f71ee11-ca24-42b4-e954-71c1a771722b"
      },
      "cell_type": "code",
      "source": [
        "#splitting the data into training and testing\n",
        "\n",
        "from sklearn.model_selection import train_test_split\n",
        "x_train,x_test,y_train,y_test=train_test_split(x,y_svm,random_state=1)\n",
        "x_train.shape,x_test.shape,y_train.shape,y_test.shape"
      ],
      "execution_count": 14,
      "outputs": [
        {
          "output_type": "execute_result",
          "data": {
            "text/plain": [
              "((75, 17), (26, 17), (75,), (26,))"
            ]
          },
          "metadata": {
            "tags": []
          },
          "execution_count": 14
        }
      ]
    },
    {
      "metadata": {
        "id": "iia59OVFWvhu",
        "colab_type": "text"
      },
      "cell_type": "markdown",
      "source": [
        "SVM ALGORITHM"
      ]
    },
    {
      "metadata": {
        "id": "xqfYqR8hQCNG",
        "colab_type": "code",
        "colab": {
          "base_uri": "https://localhost:8080/",
          "height": 35
        },
        "outputId": "92ee631b-9db3-4f29-d829-cd795579c326"
      },
      "cell_type": "code",
      "source": [
        "kernel_list=['linear','rbf','poly','sigmoid']\n",
        "x_train.shape,y_train.shape"
      ],
      "execution_count": 15,
      "outputs": [
        {
          "output_type": "execute_result",
          "data": {
            "text/plain": [
              "((75, 17), (75,))"
            ]
          },
          "metadata": {
            "tags": []
          },
          "execution_count": 15
        }
      ]
    },
    {
      "metadata": {
        "id": "QrEoCosqMLp2",
        "colab_type": "code",
        "colab": {}
      },
      "cell_type": "code",
      "source": [
        "precision0=np.zeros((4,1))\n",
        "precision1=np.zeros((4,1))\n",
        "precision2=np.zeros((4,1))\n",
        "precision4=np.zeros((4,1))\n",
        "precision3=np.zeros((4,1))\n",
        "precision5=np.zeros((4,1))\n",
        "precision6=np.zeros((4,1))\n",
        "\n",
        "recall0=np.zeros((4,1))\n",
        "recall1=np.zeros((4,1))\n",
        "recall2=np.zeros((4,1))\n",
        "recall3=np.zeros((4,1))\n",
        "recall4=np.zeros((4,1))\n",
        "recall5=np.zeros((4,1))\n",
        "recall6=np.zeros((4,1))\n",
        "k=0"
      ],
      "execution_count": 0,
      "outputs": []
    },
    {
      "metadata": {
        "id": "F1uzao2MQCQ6",
        "colab_type": "code",
        "colab": {
          "base_uri": "https://localhost:8080/",
          "height": 970
        },
        "outputId": "72647c21-d315-429a-bc0d-5165c0823223"
      },
      "cell_type": "code",
      "source": [
        "for i in kernel_list:\n",
        "    \n",
        "    #initial training of classifier\n",
        "    clf=SVC(kernel=i)\n",
        "    clf.fit(x_train,y_train)\n",
        "    y_pred=clf.predict(x_test)\n",
        "    \n",
        "    #calculating the score \n",
        "    score1=clf.score(x_test,y_test)\n",
        "    print(i,\":\",score1)\n",
        "    \n",
        "    #5-fold cross validation\n",
        "    kfold=KFold(n_splits=5)\n",
        "    clf1=SVC(kernel=i)\n",
        "    results=cross_val_score(clf1,x_train,y_train,cv=kfold)\n",
        "    \n",
        "    \n",
        "    print(\"Result of 5 fold cross validation for\",i)\n",
        "    print(i,\":\",results)\n",
        "    \n",
        "    precision,recall,_,_= scr(y_test,y_pred)\n",
        "    recall0[k]+=recall[0]\n",
        "    recall1[k]+=recall[1]\n",
        "    recall2[k]+=recall[2]\n",
        "    recall3[k]+=recall[3]\n",
        "    recall4[k]+=recall[4]\n",
        "    recall5[k]+=recall[5]\n",
        "    recall6[k]+=recall[6]\n",
        "    \n",
        "    precision0[k]+=precision[0]\n",
        "    precision1[k]+=precision[1]\n",
        "    precision2[k]+=precision[2]\n",
        "    precision3[k]+=precision[3]\n",
        "    precision4[k]+=precision[4]\n",
        "    precision5[k]+=precision[5]\n",
        "    precision6[k]+=precision[6]\n",
        "    k+=1\n",
        "   "
      ],
      "execution_count": 17,
      "outputs": [
        {
          "output_type": "stream",
          "text": [
            "linear : 1.0\n",
            "Result of 5 fold cross validation for linear\n",
            "linear : [1.         1.         1.         1.         0.93333333]\n",
            "rbf : 0.9615384615384616\n",
            "Result of 5 fold cross validation for rbf\n",
            "rbf : [0.93333333 1.         0.86666667 0.93333333 0.86666667]\n",
            "poly : 0.9615384615384616\n",
            "Result of 5 fold cross validation for poly\n",
            "poly : [1.         1.         0.93333333 0.93333333 0.86666667]\n",
            "sigmoid : 0.7307692307692307\n",
            "Result of 5 fold cross validation for sigmoid\n",
            "sigmoid : [0.66666667 0.73333333 0.6        0.8        0.8       ]\n"
          ],
          "name": "stdout"
        },
        {
          "output_type": "stream",
          "text": [
            "/usr/local/lib/python3.6/dist-packages/sklearn/svm/base.py:196: FutureWarning: The default value of gamma will change from 'auto' to 'scale' in version 0.22 to account better for unscaled features. Set gamma explicitly to 'auto' or 'scale' to avoid this warning.\n",
            "  \"avoid this warning.\", FutureWarning)\n",
            "/usr/local/lib/python3.6/dist-packages/sklearn/svm/base.py:196: FutureWarning: The default value of gamma will change from 'auto' to 'scale' in version 0.22 to account better for unscaled features. Set gamma explicitly to 'auto' or 'scale' to avoid this warning.\n",
            "  \"avoid this warning.\", FutureWarning)\n",
            "/usr/local/lib/python3.6/dist-packages/sklearn/svm/base.py:196: FutureWarning: The default value of gamma will change from 'auto' to 'scale' in version 0.22 to account better for unscaled features. Set gamma explicitly to 'auto' or 'scale' to avoid this warning.\n",
            "  \"avoid this warning.\", FutureWarning)\n",
            "/usr/local/lib/python3.6/dist-packages/sklearn/svm/base.py:196: FutureWarning: The default value of gamma will change from 'auto' to 'scale' in version 0.22 to account better for unscaled features. Set gamma explicitly to 'auto' or 'scale' to avoid this warning.\n",
            "  \"avoid this warning.\", FutureWarning)\n",
            "/usr/local/lib/python3.6/dist-packages/sklearn/svm/base.py:196: FutureWarning: The default value of gamma will change from 'auto' to 'scale' in version 0.22 to account better for unscaled features. Set gamma explicitly to 'auto' or 'scale' to avoid this warning.\n",
            "  \"avoid this warning.\", FutureWarning)\n",
            "/usr/local/lib/python3.6/dist-packages/sklearn/svm/base.py:196: FutureWarning: The default value of gamma will change from 'auto' to 'scale' in version 0.22 to account better for unscaled features. Set gamma explicitly to 'auto' or 'scale' to avoid this warning.\n",
            "  \"avoid this warning.\", FutureWarning)\n",
            "/usr/local/lib/python3.6/dist-packages/sklearn/metrics/classification.py:1143: UndefinedMetricWarning: Precision and F-score are ill-defined and being set to 0.0 in labels with no predicted samples.\n",
            "  'precision', 'predicted', average, warn_for)\n",
            "/usr/local/lib/python3.6/dist-packages/sklearn/svm/base.py:196: FutureWarning: The default value of gamma will change from 'auto' to 'scale' in version 0.22 to account better for unscaled features. Set gamma explicitly to 'auto' or 'scale' to avoid this warning.\n",
            "  \"avoid this warning.\", FutureWarning)\n",
            "/usr/local/lib/python3.6/dist-packages/sklearn/svm/base.py:196: FutureWarning: The default value of gamma will change from 'auto' to 'scale' in version 0.22 to account better for unscaled features. Set gamma explicitly to 'auto' or 'scale' to avoid this warning.\n",
            "  \"avoid this warning.\", FutureWarning)\n",
            "/usr/local/lib/python3.6/dist-packages/sklearn/svm/base.py:196: FutureWarning: The default value of gamma will change from 'auto' to 'scale' in version 0.22 to account better for unscaled features. Set gamma explicitly to 'auto' or 'scale' to avoid this warning.\n",
            "  \"avoid this warning.\", FutureWarning)\n",
            "/usr/local/lib/python3.6/dist-packages/sklearn/svm/base.py:196: FutureWarning: The default value of gamma will change from 'auto' to 'scale' in version 0.22 to account better for unscaled features. Set gamma explicitly to 'auto' or 'scale' to avoid this warning.\n",
            "  \"avoid this warning.\", FutureWarning)\n",
            "/usr/local/lib/python3.6/dist-packages/sklearn/svm/base.py:196: FutureWarning: The default value of gamma will change from 'auto' to 'scale' in version 0.22 to account better for unscaled features. Set gamma explicitly to 'auto' or 'scale' to avoid this warning.\n",
            "  \"avoid this warning.\", FutureWarning)\n",
            "/usr/local/lib/python3.6/dist-packages/sklearn/svm/base.py:196: FutureWarning: The default value of gamma will change from 'auto' to 'scale' in version 0.22 to account better for unscaled features. Set gamma explicitly to 'auto' or 'scale' to avoid this warning.\n",
            "  \"avoid this warning.\", FutureWarning)\n",
            "/usr/local/lib/python3.6/dist-packages/sklearn/metrics/classification.py:1143: UndefinedMetricWarning: Precision and F-score are ill-defined and being set to 0.0 in labels with no predicted samples.\n",
            "  'precision', 'predicted', average, warn_for)\n",
            "/usr/local/lib/python3.6/dist-packages/sklearn/svm/base.py:196: FutureWarning: The default value of gamma will change from 'auto' to 'scale' in version 0.22 to account better for unscaled features. Set gamma explicitly to 'auto' or 'scale' to avoid this warning.\n",
            "  \"avoid this warning.\", FutureWarning)\n",
            "/usr/local/lib/python3.6/dist-packages/sklearn/svm/base.py:196: FutureWarning: The default value of gamma will change from 'auto' to 'scale' in version 0.22 to account better for unscaled features. Set gamma explicitly to 'auto' or 'scale' to avoid this warning.\n",
            "  \"avoid this warning.\", FutureWarning)\n",
            "/usr/local/lib/python3.6/dist-packages/sklearn/svm/base.py:196: FutureWarning: The default value of gamma will change from 'auto' to 'scale' in version 0.22 to account better for unscaled features. Set gamma explicitly to 'auto' or 'scale' to avoid this warning.\n",
            "  \"avoid this warning.\", FutureWarning)\n",
            "/usr/local/lib/python3.6/dist-packages/sklearn/svm/base.py:196: FutureWarning: The default value of gamma will change from 'auto' to 'scale' in version 0.22 to account better for unscaled features. Set gamma explicitly to 'auto' or 'scale' to avoid this warning.\n",
            "  \"avoid this warning.\", FutureWarning)\n",
            "/usr/local/lib/python3.6/dist-packages/sklearn/svm/base.py:196: FutureWarning: The default value of gamma will change from 'auto' to 'scale' in version 0.22 to account better for unscaled features. Set gamma explicitly to 'auto' or 'scale' to avoid this warning.\n",
            "  \"avoid this warning.\", FutureWarning)\n",
            "/usr/local/lib/python3.6/dist-packages/sklearn/svm/base.py:196: FutureWarning: The default value of gamma will change from 'auto' to 'scale' in version 0.22 to account better for unscaled features. Set gamma explicitly to 'auto' or 'scale' to avoid this warning.\n",
            "  \"avoid this warning.\", FutureWarning)\n",
            "/usr/local/lib/python3.6/dist-packages/sklearn/metrics/classification.py:1143: UndefinedMetricWarning: Precision and F-score are ill-defined and being set to 0.0 in labels with no predicted samples.\n",
            "  'precision', 'predicted', average, warn_for)\n"
          ],
          "name": "stderr"
        }
      ]
    },
    {
      "metadata": {
        "id": "ywIXjz7KdQIR",
        "colab_type": "code",
        "colab": {}
      },
      "cell_type": "code",
      "source": [
        "precision_avg=np.zeros((7,1))\n",
        "\n",
        "for i in range(4):\n",
        "  precision_avg[0]=precision0.sum()/4\n",
        "  precision_avg[1]=precision1.sum()/4\n",
        "  precision_avg[2]=precision2.sum()/4\n",
        "  precision_avg[3]=precision3.sum()/4\n",
        "  precision_avg[4]=precision4.sum()/4\n",
        "  precision_avg[5]=precision5.sum()/4\n",
        "  precision_avg[6]=precision6.sum()/4"
      ],
      "execution_count": 0,
      "outputs": []
    },
    {
      "metadata": {
        "id": "927W_4p_frgU",
        "colab_type": "code",
        "colab": {}
      },
      "cell_type": "code",
      "source": [
        ""
      ],
      "execution_count": 0,
      "outputs": []
    },
    {
      "metadata": {
        "id": "U_NE35VlXIpq",
        "colab_type": "code",
        "colab": {
          "base_uri": "https://localhost:8080/",
          "height": 138
        },
        "outputId": "4a06d375-2301-4ab1-85a7-3010719f411b"
      },
      "cell_type": "code",
      "source": [
        "#average of precision for each kernel\n",
        "precision_avg"
      ],
      "execution_count": 19,
      "outputs": [
        {
          "output_type": "execute_result",
          "data": {
            "text/plain": [
              "array([[1.        ],\n",
              "       [0.83333333],\n",
              "       [0.25      ],\n",
              "       [0.79166667],\n",
              "       [0.75      ],\n",
              "       [0.75      ],\n",
              "       [0.75      ]])"
            ]
          },
          "metadata": {
            "tags": []
          },
          "execution_count": 19
        }
      ]
    },
    {
      "metadata": {
        "id": "QFO6tBqF5ILp",
        "colab_type": "code",
        "colab": {}
      },
      "cell_type": "code",
      "source": [
        "recall_avg=np.zeros((7,1))\n",
        "\n",
        "for i in range(4):\n",
        "  recall_avg[0]=recall0.sum()/4\n",
        "  recall_avg[1]=recall1.sum()/4\n",
        "  recall_avg[2]=recall2.sum()/4\n",
        "  recall_avg[3]=recall3.sum()/4\n",
        "  recall_avg[4]=recall4.sum()/4\n",
        "  recall_avg[5]=recall5.sum()/4\n",
        "  recall_avg[6]=recall6.sum()/4\n",
        "  \n",
        " "
      ],
      "execution_count": 0,
      "outputs": []
    },
    {
      "metadata": {
        "id": "R3OPdFot5iFO",
        "colab_type": "code",
        "colab": {
          "base_uri": "https://localhost:8080/",
          "height": 138
        },
        "outputId": "e1b00996-da44-4c81-9d11-985b1e0c8867"
      },
      "cell_type": "code",
      "source": [
        "recall_avg"
      ],
      "execution_count": 43,
      "outputs": [
        {
          "output_type": "execute_result",
          "data": {
            "text/plain": [
              "array([[1.  ],\n",
              "       [1.  ],\n",
              "       [0.25],\n",
              "       [1.  ],\n",
              "       [0.75],\n",
              "       [0.75],\n",
              "       [0.75]])"
            ]
          },
          "metadata": {
            "tags": []
          },
          "execution_count": 43
        }
      ]
    },
    {
      "metadata": {
        "id": "_U2-woSMXfOG",
        "colab_type": "text"
      },
      "cell_type": "markdown",
      "source": [
        "Therefore,  linear kernel works best for all classes."
      ]
    },
    {
      "metadata": {
        "id": "wQq9siMi5Gmr",
        "colab_type": "code",
        "colab": {
          "base_uri": "https://localhost:8080/",
          "height": 347
        },
        "outputId": "840d229b-5b99-472a-f84d-c9900a13fba3"
      },
      "cell_type": "code",
      "source": [
        "plt.plot(precision_avg,recall_avg)\n",
        "plt.show()"
      ],
      "execution_count": 44,
      "outputs": [
        {
          "output_type": "display_data",
          "data": {
            "image/png": "[encoded data removed]",
            "text/plain": [
              "<Figure size 576x396 with 1 Axes>"
            ]
          },
          "metadata": {
            "tags": []
          }
        }
      ]
    },
    {
      "metadata": {
        "id": "4U__8vkpRQR1",
        "colab_type": "code",
        "colab": {
          "base_uri": "https://localhost:8080/",
          "height": 347
        },
        "outputId": "c1eca8c4-fc0d-4c1d-f827-a966b5bbadd2"
      },
      "cell_type": "code",
      "source": [
        "plt.plot(precision0,recall0)\n",
        "plt.plot(precision1,recall1)\n",
        "plt.plot(precision2,recall2)\n",
        "plt.plot(precision3,recall3)\n",
        "plt.plot(precision4,recall4)\n",
        "plt.plot(precision5,recall5)\n",
        "plt.plot(precision6,recall6)\n",
        "plt.show()"
      ],
      "execution_count": 41,
      "outputs": [
        {
          "output_type": "display_data",
          "data": {
            "image/png": "[encoded data removed]",
            "text/plain": [
              "<Figure size 576x396 with 1 Axes>"
            ]
          },
          "metadata": {
            "tags": []
          }
        }
      ]
    },
    {
      "metadata": {
        "id": "l6Rh20J1RX71",
        "colab_type": "code",
        "colab": {}
      },
      "cell_type": "code",
      "source": [
        ""
      ],
      "execution_count": 0,
      "outputs": []
    },
    {
      "metadata": {
        "id": "Awa9IBJEXj55",
        "colab_type": "text"
      },
      "cell_type": "markdown",
      "source": [
        "BACK PROPAGATION NEURAL NETWORK"
      ]
    },
    {
      "metadata": {
        "id": "z0eAgr7xzoVi",
        "colab_type": "code",
        "colab": {
          "base_uri": "https://localhost:8080/",
          "height": 35
        },
        "outputId": "f7c8ecb0-6993-4923-8c21-4092692637a5"
      },
      "cell_type": "code",
      "source": [
        "y_nn=np.array((y_one_hot))\n",
        "y_nn.shape"
      ],
      "execution_count": 21,
      "outputs": [
        {
          "output_type": "execute_result",
          "data": {
            "text/plain": [
              "(101, 7)"
            ]
          },
          "metadata": {
            "tags": []
          },
          "execution_count": 21
        }
      ]
    },
    {
      "metadata": {
        "id": "ZoJ19_0gz2mn",
        "colab_type": "code",
        "colab": {
          "base_uri": "https://localhost:8080/",
          "height": 35
        },
        "outputId": "d9a79f1d-8036-4d66-f3cc-4df773277757"
      },
      "cell_type": "code",
      "source": [
        "#splitting the data into training and testing\n",
        "\n",
        "x_train,x_test,y_train,y_test=train_test_split(x,y_nn,random_state=1)\n",
        "x_train.shape,x_test.shape,y_train.shape,y_test.shape"
      ],
      "execution_count": 22,
      "outputs": [
        {
          "output_type": "execute_result",
          "data": {
            "text/plain": [
              "((75, 17), (26, 17), (75, 7), (26, 7))"
            ]
          },
          "metadata": {
            "tags": []
          },
          "execution_count": 22
        }
      ]
    },
    {
      "metadata": {
        "id": "Hju-mBsaRigU",
        "colab_type": "code",
        "colab": {}
      },
      "cell_type": "code",
      "source": [
        "n_input= 17\n",
        "n_h1=50\n",
        "n_h2=50\n",
        "n_output= 7"
      ],
      "execution_count": 0,
      "outputs": []
    },
    {
      "metadata": {
        "id": "1hup3eSqRink",
        "colab_type": "code",
        "colab": {
          "base_uri": "https://localhost:8080/",
          "height": 89
        },
        "outputId": "f4ece359-5375-4256-e99b-580f045c0e7f"
      },
      "cell_type": "code",
      "source": [
        "#assigining random values to the weights and biases\n",
        "\n",
        "weights={\n",
        "    'h1': tf.Variable(tf.random_normal([n_input, n_h1])),\n",
        "    'h2': tf.Variable(tf.random_normal([n_h1, n_h2])),\n",
        "    'out': tf.Variable(tf.random_normal([n_h2, n_output]))\n",
        "}\n",
        "\n",
        "biases={\n",
        "    'h1': tf.Variable(tf.random_normal([n_h1])),\n",
        "    'h2': tf.Variable(tf.random_normal([n_h2])),\n",
        "    'out': tf.Variable(tf.random_normal([n_output]))\n",
        "}"
      ],
      "execution_count": 24,
      "outputs": [
        {
          "output_type": "stream",
          "text": [
            "WARNING:tensorflow:From /usr/local/lib/python3.6/dist-packages/tensorflow/python/framework/op_def_library.py:263: colocate_with (from tensorflow.python.framework.ops) is deprecated and will be removed in a future version.\n",
            "Instructions for updating:\n",
            "Colocations handled automatically by placer.\n"
          ],
          "name": "stdout"
        }
      ]
    },
    {
      "metadata": {
        "id": "VClvq63HRit9",
        "colab_type": "code",
        "colab": {}
      },
      "cell_type": "code",
      "source": [
        "#forward propagation\n",
        "\n",
        "def forward_propagation (x,weights,biases):\n",
        "  \n",
        "  #for hidden layer 1\n",
        "  input_h1= tf.add(tf.matmul(x,weights['h1']),biases['h1'])\n",
        "  output_h1= tf.nn.relu(input_h1)\n",
        "  \n",
        "  #for hidden layer 2\n",
        "  input_h2= tf.add(tf.matmul(output_h1,weights['h2']),biases['h2'])\n",
        "  output_h2= tf.nn.relu(input_h2)\n",
        "  \n",
        "  #for output layer\n",
        "  input_out= tf.add(tf.matmul(output_h2,weights['out']),biases['out'])\n",
        "  output= input_out\n",
        "  \n",
        "  return output"
      ],
      "execution_count": 0,
      "outputs": []
    },
    {
      "metadata": {
        "id": "G-4bbMT-Rix6",
        "colab_type": "code",
        "colab": {
          "base_uri": "https://localhost:8080/",
          "height": 52
        },
        "outputId": "a65a08d5-0bb1-4512-8238-9d6a87a1bd4f"
      },
      "cell_type": "code",
      "source": [
        "#x and y are made place holders so that same function can be used for evaluating all types of data \n",
        "\n",
        "x = tf.placeholder(\"float\", shape=[None , n_input])\n",
        "y = tf.placeholder(tf.int32, shape=[None, n_output])\n",
        "x, y"
      ],
      "execution_count": 26,
      "outputs": [
        {
          "output_type": "execute_result",
          "data": {
            "text/plain": [
              "(<tf.Tensor 'Placeholder:0' shape=(?, 17) dtype=float32>,\n",
              " <tf.Tensor 'Placeholder_1:0' shape=(?, 7) dtype=int32>)"
            ]
          },
          "metadata": {
            "tags": []
          },
          "execution_count": 26
        }
      ]
    },
    {
      "metadata": {
        "id": "iSlywRDNRi1N",
        "colab_type": "code",
        "colab": {}
      },
      "cell_type": "code",
      "source": [
        "#calculating the predictin values\n",
        "prediction= forward_propagation(x,weights,biases)"
      ],
      "execution_count": 0,
      "outputs": []
    },
    {
      "metadata": {
        "id": "AGmu9DrfYioV",
        "colab_type": "code",
        "colab": {
          "base_uri": "https://localhost:8080/",
          "height": 175
        },
        "outputId": "68cdabf0-2955-48ba-df57-97c74d6c60fe"
      },
      "cell_type": "code",
      "source": [
        "cost= tf.reduce_mean(tf.nn.softmax_cross_entropy_with_logits(logits=prediction,labels=y))"
      ],
      "execution_count": 28,
      "outputs": [
        {
          "output_type": "stream",
          "text": [
            "WARNING:tensorflow:From <ipython-input-28-9aaf6cc9e5f9>:1: softmax_cross_entropy_with_logits (from tensorflow.python.ops.nn_ops) is deprecated and will be removed in a future version.\n",
            "Instructions for updating:\n",
            "\n",
            "Future major versions of TensorFlow will allow gradients to flow\n",
            "into the labels input on backprop by default.\n",
            "\n",
            "See `tf.nn.softmax_cross_entropy_with_logits_v2`.\n",
            "\n"
          ],
          "name": "stdout"
        }
      ]
    },
    {
      "metadata": {
        "id": "funty-uyYmfG",
        "colab_type": "code",
        "colab": {}
      },
      "cell_type": "code",
      "source": [
        "optimizer = tf.train.AdamOptimizer(learning_rate=0.01)\n",
        "optimize_step = optimizer.minimize(cost)"
      ],
      "execution_count": 0,
      "outputs": []
    },
    {
      "metadata": {
        "id": "TWhY_kn1Ym_m",
        "colab_type": "code",
        "colab": {}
      },
      "cell_type": "code",
      "source": [
        "sess=tf.Session()\n",
        "sess.run(tf.global_variables_initializer())"
      ],
      "execution_count": 0,
      "outputs": []
    },
    {
      "metadata": {
        "id": "e_reB3iPYnew",
        "colab_type": "code",
        "colab": {
          "base_uri": "https://localhost:8080/",
          "height": 190
        },
        "outputId": "d09e4667-6f3c-432f-9309-034322875080"
      },
      "cell_type": "code",
      "source": [
        "#optimising the cost multiple times to reduce it\n",
        "\n",
        "for i in range(50):\n",
        "  c,_=sess.run([cost,optimize_step],feed_dict={x:x_test,y:y_test})\n",
        "  if i%5==0:\n",
        "    print(c)"
      ],
      "execution_count": 31,
      "outputs": [
        {
          "output_type": "stream",
          "text": [
            "87.40717\n",
            "36.05684\n",
            "11.7845745\n",
            "0.4439605\n",
            "0.51609665\n",
            "0.008410502\n",
            "0.00013645811\n",
            "0.0003500171\n",
            "0.0034561572\n",
            "0.0003066358\n"
          ],
          "name": "stdout"
        }
      ]
    },
    {
      "metadata": {
        "id": "cyClKTuFYr2T",
        "colab_type": "code",
        "colab": {
          "base_uri": "https://localhost:8080/",
          "height": 138
        },
        "outputId": "8d15e4fe-fede-4996-c0c6-54ba5838d33e"
      },
      "cell_type": "code",
      "source": [
        "#calculating the class value for the prediction\n",
        "predictions=tf.argmax(prediction,1)\n",
        "\n",
        "#enlisting the true output\n",
        "true_labels=tf.argmax(y,1)\n",
        "\n",
        "#comparing the results\n",
        "correct_predictions=tf.equal(predictions,true_labels)\n",
        "\n",
        "\n",
        "predictions_eval,labels,correct_pred = sess.run([predictions,true_labels,correct_predictions], feed_dict={x:x_test,y:y_test})\n",
        "predictions_eval,labels,correct_pred\n",
        "\n"
      ],
      "execution_count": 32,
      "outputs": [
        {
          "output_type": "execute_result",
          "data": {
            "text/plain": [
              "(array([0, 1, 0, 1, 0, 6, 0, 1, 3, 4, 1, 0, 0, 0, 0, 0, 0, 0, 6, 2, 1, 0,\n",
              "        5, 5, 3, 6]),\n",
              " array([0, 1, 0, 1, 0, 6, 0, 1, 3, 4, 1, 0, 0, 0, 0, 0, 0, 0, 6, 2, 1, 0,\n",
              "        5, 5, 3, 6]),\n",
              " array([ True,  True,  True,  True,  True,  True,  True,  True,  True,\n",
              "         True,  True,  True,  True,  True,  True,  True,  True,  True,\n",
              "         True,  True,  True,  True,  True,  True,  True,  True]))"
            ]
          },
          "metadata": {
            "tags": []
          },
          "execution_count": 32
        }
      ]
    },
    {
      "metadata": {
        "id": "TLvlqwE1YsR4",
        "colab_type": "code",
        "colab": {
          "base_uri": "https://localhost:8080/",
          "height": 35
        },
        "outputId": "62580f7a-5773-4a62-8a41-1ffc38a56d4d"
      },
      "cell_type": "code",
      "source": [
        "#finding the accuracy \n",
        "\n",
        "accuracy=(correct_pred.sum())/(y_test.shape[0])\n",
        "accuracy"
      ],
      "execution_count": 33,
      "outputs": [
        {
          "output_type": "execute_result",
          "data": {
            "text/plain": [
              "1.0"
            ]
          },
          "metadata": {
            "tags": []
          },
          "execution_count": 33
        }
      ]
    },
    {
      "metadata": {
        "id": "cNLnMOSraAab",
        "colab_type": "text"
      },
      "cell_type": "markdown",
      "source": [
        "COMPARISON OF RESULTS OF SVM AND NEURAL NETWORK"
      ]
    },
    {
      "metadata": {
        "id": "ueC65QhnaM7F",
        "colab_type": "text"
      },
      "cell_type": "markdown",
      "source": [
        "ACCURACY OF SVM(average of all four kernels): 0.913425\n",
        "\n",
        "\n",
        "\n",
        "\n",
        "ACCURACY OF NEURAL NETWORK : 1.0\n",
        "\n",
        "```\n",
        "# This is formatted as code\n",
        "```\n",
        "\n"
      ]
    },
    {
      "metadata": {
        "id": "R11C2_PQX5tS",
        "colab_type": "text"
      },
      "cell_type": "markdown",
      "source": [
        "Description:    For the provided dataset, we applied two algorithms namely SVM and Neural Network(Back Propagation). In SVM, we used four different kernels for training as well as 5-fold cross validation and compared the results for each. The results on this dataset shows that the linear kernel works best among all. For neural networks, we first foward propagated the input and then according to the value of error function(cost function) changed the weights for a better model which is together called back propagation. This work is done in repeated manner to finally minimise the cost and yield a well trained model for predictions.The accuracy coming out in this is 1.0"
      ]
    },
    {
      "metadata": {
        "id": "u0tPg3L7Z__X",
        "colab_type": "code",
        "colab": {}
      },
      "cell_type": "code",
      "source": [
        ""
      ],
      "execution_count": 0,
      "outputs": []
    }
  ]
}